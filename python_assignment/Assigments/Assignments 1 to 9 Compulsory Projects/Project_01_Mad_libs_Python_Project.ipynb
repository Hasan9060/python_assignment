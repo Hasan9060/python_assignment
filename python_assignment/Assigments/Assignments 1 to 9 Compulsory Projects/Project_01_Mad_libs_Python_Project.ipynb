{
  "nbformat": 4,
  "nbformat_minor": 0,
  "metadata": {
    "colab": {
      "provenance": [],
      "authorship_tag": "ABX9TyOOpdfBj6521zQW9vJlUC0b",
      "include_colab_link": true
    },
    "kernelspec": {
      "name": "python3",
      "display_name": "Python 3"
    },
    "language_info": {
      "name": "python"
    }
  },
  "cells": [
    {
      "cell_type": "markdown",
      "metadata": {
        "id": "view-in-github",
        "colab_type": "text"
      },
      "source": [
        "<a href=\"https://colab.research.google.com/github/Hasan9060/python_assignment/blob/main/python_assignment/Assigments/Assignments%201%20to%209%20Compulsory%20Projects/Project_01_Mad_libs_Python_Project.ipynb\" target=\"_parent\"><img src=\"https://colab.research.google.com/assets/colab-badge.svg\" alt=\"Open In Colab\"/></a>"
      ]
    },
    {
      "cell_type": "code",
      "execution_count": null,
      "metadata": {
        "colab": {
          "base_uri": "https://localhost:8080/"
        },
        "id": "WBghwwG69XoX",
        "outputId": "7aa350f8-139b-455d-f39e-e1595d00d247"
      },
      "outputs": [
        {
          "output_type": "stream",
          "name": "stdout",
          "text": [
            "Enter the boy name:as\n",
            "Enter a programming language (e.g:python, next.js, typescript, html):as\n",
            "Enter the mentor name:sa\n",
            "Enter location eg: Governor houseas\n",
            "/n Here is my little story based on mad libs game!\n",
            "one upon a time,there was a boy named as.\n",
            "as was very curious and always want to learn new things\n",
            "One day, he decided to learn as language at as\n",
            "Luckily as found a great mentor name as sa who was an expert in as.\n",
            "And so , his journey continues....!\n"
          ]
        }
      ],
      "source": [
        "# Project\n",
        "#take input from user\n",
        "name = input(\"Enter the boy name: \")\n",
        "programming_language = input(\"Enter a programming language (e.g:python, next.js, typescript, html): \")\n",
        "mentor = input(\"Enter the mentor name: \")\n",
        "location = input(\"Enter location eg: Governor house: \")\n",
        "\n",
        "#story created\n",
        "print(\"/n Here is my little story based on mad libs game!\")\n",
        "print(f\"one upon a time,there was a boy named {name}.\")\n",
        "print(f\"{name} was very curious and always want to learn new things\")\n",
        "print(f\"One day, he decided to learn {programming_language} language at {location}\")\n",
        "print(f\"Luckily {name} found a great mentor name as {mentor} who was an expert in {programming_language}.\")\n",
        "print(\"And so , his journey continues....!\")"
      ]
    }
  ]
}