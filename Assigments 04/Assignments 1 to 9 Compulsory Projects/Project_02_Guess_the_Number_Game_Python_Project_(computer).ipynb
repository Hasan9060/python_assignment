{
  "cells": [
    {
      "cell_type": "markdown",
      "metadata": {
        "id": "view-in-github",
        "colab_type": "text"
      },
      "source": [
        "<a href=\"https://colab.research.google.com/github/Hasan9060/python_assignment/blob/main/Assigments%2004/Assignments%201%20to%209%20Compulsory%20Projects/Project_02_Guess_the_Number_Game_Python_Project_(computer).ipynb\" target=\"_parent\"><img src=\"https://colab.research.google.com/assets/colab-badge.svg\" alt=\"Open In Colab\"/></a>"
      ]
    },
    {
      "cell_type": "code",
      "execution_count": null,
      "metadata": {
        "colab": {
          "background_save": true
        },
        "id": "Gzkdui8fCHf1",
        "outputId": "94fa3a96-aa23-42c8-ca38-1cd62386abf9"
      },
      "outputs": [
        {
          "name": "stdout",
          "output_type": "stream",
          "text": [
            "Welcome to the Number Guessing Game!\n",
            "I'm thinking of a number between 1 and 50.\n",
            "\n",
            "You have 8 guesses left.\n"
          ]
        }
      ],
      "source": [
        "#project 2 : Guess the Number Game by computer\n",
        "# 1 to 50 numbers.\n",
        "\n",
        "import random\n",
        "def guess_the_number():\n",
        "  \"\"\"\"Project 2 : Guess The Number Game by Computer.\"\"\"\n",
        "  number = random.radint(1,50)\n",
        "  guesses_left = 8\n",
        "\n",
        "  #welcome message\n",
        "  print(\"Welcome to the number guessing game\")\n",
        "  print(\"I am thinking a number between 1 to 50\")\n",
        "\n",
        "  #loop generated\n",
        "  while guesses_left > 0:\n",
        "    print(f\"\\nYou have {guesses_left} guesses left.\")\n",
        "    try:\n",
        "        guess = int(input(\"Take a guess of another number: \"))\n",
        "    except ValueError:\n",
        "        print(\"Invalid input: Please enter a number.\")\n",
        "        continue\n",
        "\n",
        "        #guess the secrete number\n",
        "        if guess < number:\n",
        "          print(\"Too low number. Tell another!\")\n",
        "        elif guess > number:\n",
        "          print(\"Too high number . Tell another!\")\n",
        "        else:\n",
        "          print(f\"Congratulation! you got the correct number in {8 - guesses_left + 1} tries.\")\n",
        "          return\n",
        "\n",
        "        guesses_left -= 1\n",
        "        #when all guesses are finished so message is\n",
        "        print(f\"/nYou ran out of guess. The number was {number}.\")\n",
        "\n",
        "        guess_the_number()\n"
      ]
    }
  ],
  "metadata": {
    "colab": {
      "provenance": [],
      "authorship_tag": "ABX9TyMwIZ0MBRhgvgCl9Ad4n9rI",
      "include_colab_link": true
    },
    "kernelspec": {
      "display_name": "Python 3",
      "name": "python3"
    },
    "language_info": {
      "name": "python"
    }
  },
  "nbformat": 4,
  "nbformat_minor": 0
}