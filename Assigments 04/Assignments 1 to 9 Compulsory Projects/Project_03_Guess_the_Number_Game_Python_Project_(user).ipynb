{
  "nbformat": 4,
  "nbformat_minor": 0,
  "metadata": {
    "colab": {
      "provenance": [],
      "authorship_tag": "ABX9TyOuyJxGCxPrkzgpvB7aXqRx",
      "include_colab_link": true
    },
    "kernelspec": {
      "name": "python3",
      "display_name": "Python 3"
    },
    "language_info": {
      "name": "python"
    }
  },
  "cells": [
    {
      "cell_type": "markdown",
      "metadata": {
        "id": "view-in-github",
        "colab_type": "text"
      },
      "source": [
        "<a href=\"https://colab.research.google.com/github/Hasan9060/python_assignment/blob/main/Assigments%2004/Assignments%201%20to%209%20Compulsory%20Projects/Project_03_Guess_the_Number_Game_Python_Project_(user).ipynb\" target=\"_parent\"><img src=\"https://colab.research.google.com/assets/colab-badge.svg\" alt=\"Open In Colab\"/></a>"
      ]
    },
    {
      "cell_type": "code",
      "execution_count": null,
      "metadata": {
        "colab": {
          "base_uri": "https://localhost:8080/"
        },
        "id": "BbqNxEHGKXs6",
        "outputId": "fd5cf83d-3882-45e8-f32e-e577f63c753a"
      },
      "outputs": [
        {
          "output_type": "stream",
          "name": "stdout",
          "text": [
            "Welcome to the Guess the Number Game!\n",
            "I'm thinking of a number between 1 and 100...\n",
            "Enter your guess: 1\n",
            "Too low! Try again.\n",
            "Enter your guess: 2\n",
            "Too low! Try again.\n",
            "Enter your guess: 3\n",
            "Too low! Try again.\n",
            "Enter your guess: 6\n",
            "Too low! Try again.\n",
            "Enter your guess: 8\n",
            "Too low! Try again.\n",
            "Enter your guess: 3\n",
            "Too low! Try again.\n",
            "Enter your guess: 2\n",
            "Too low! Try again.\n"
          ]
        }
      ],
      "source": [
        "# Project 03: Guess the Number Game Python Project (user)\n",
        "\n",
        "import random\n",
        "\n",
        "print(\"Welcome to the Guess the Number Game!\")\n",
        "print(\"I'm thinking of a number between 1 and 100...\")\n",
        "\n",
        "# Random number generate karo\n",
        "secret_number = random.randint(1, 100)\n",
        "attempts = 0\n",
        "\n",
        "while True:\n",
        "    try:\n",
        "        guess = int(input(\"Enter your guess: \"))\n",
        "        attempts += 1\n",
        "\n",
        "        if guess < 1 or guess > 100:\n",
        "            print(\"Please guess a number between 1 and 100.\")\n",
        "            continue\n",
        "\n",
        "        if guess < secret_number:\n",
        "            print(\"Too low! Try again.\")\n",
        "        elif guess > secret_number:\n",
        "            print(\"Too high! Try again.\")\n",
        "        else:\n",
        "            print(f\"Congrats! You guessed it in {attempts} tries. The number was {secret_number}.\")\n",
        "            break\n",
        "\n",
        "    except ValueError:\n",
        "        print(\"Invalid input. Please enter a number.\")\n"
      ]
    }
  ]
}