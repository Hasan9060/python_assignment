{
  "nbformat": 4,
  "nbformat_minor": 0,
  "metadata": {
    "colab": {
      "provenance": [],
      "authorship_tag": "ABX9TyNP6tdS718v9gVVjNfu3E5Y",
      "include_colab_link": true
    },
    "kernelspec": {
      "name": "python3",
      "display_name": "Python 3"
    },
    "language_info": {
      "name": "python"
    }
  },
  "cells": [
    {
      "cell_type": "markdown",
      "metadata": {
        "id": "view-in-github",
        "colab_type": "text"
      },
      "source": [
        "<a href=\"https://colab.research.google.com/github/Hasan9060/python_assignment/blob/main/Assigments%2004/Assignments%201%20to%209%20Compulsory%20Projects/Project_07_Password_Generator.ipynb\" target=\"_parent\"><img src=\"https://colab.research.google.com/assets/colab-badge.svg\" alt=\"Open In Colab\"/></a>"
      ]
    },
    {
      "cell_type": "markdown",
      "source": [
        "[🔗 Open this Notebook in Colab](https://colab.research.google.com/drive/1avR4_xRYpg0yLtoMtV2s0pSD_7oCkQv0#scrollTo=TNqQgpx-oBG7)\n"
      ],
      "metadata": {
        "id": "TNqQgpx-oBG7"
      }
    },
    {
      "cell_type": "code",
      "execution_count": null,
      "metadata": {
        "colab": {
          "base_uri": "https://localhost:8080/"
        },
        "id": "3J-yKLiUxT2M",
        "outputId": "0c399156-70c1-41fd-c0c1-bc8f6f0d213b"
      },
      "outputs": [
        {
          "output_type": "stream",
          "name": "stdout",
          "text": [
            "Welcome to the Password Generator!\n",
            "Generate a strong, random password easily.\n",
            "\n",
            "Enter the desired password length: 12\n",
            "\n",
            "Your Generated Password is: WGD)~nrM1'C7\n",
            "Thank you for using the Password Generator!\n"
          ]
        }
      ],
      "source": [
        "# Project 7: Password Generator Python Project\n",
        "\n",
        "import random\n",
        "import string\n",
        "\n",
        "print(\"Welcome to the Password Generator!\")\n",
        "print(\"Generate a strong, random password easily.\\n\")\n",
        "\n",
        "try:\n",
        "    password_length = int(input(\"Enter the desired password length: \"))\n",
        "    if password_length < 6:\n",
        "        print(\"Password length must be at least 6 characters.\")\n",
        "        exit()\n",
        "\n",
        "    # characters to include in the password\n",
        "    letters = string.ascii_letters\n",
        "    digits = string.digits\n",
        "    punctuation = string.punctuation\n",
        "    all_characters = letters + digits + punctuation\n",
        "\n",
        "    # Generate random password\n",
        "    password = ''.join(random.choice(all_characters) for _ in range(password_length))\n",
        "\n",
        "    print(\"\\nYour Generated Password is:\", password)\n",
        "    print(\"Thank you for using the Password Generator!\")\n",
        "\n",
        "except ValueError:\n",
        "    print(\"Invalid input. Please enter a valid number.\")\n"
      ]
    }
  ]
}