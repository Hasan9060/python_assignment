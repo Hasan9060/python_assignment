{
  "nbformat": 4,
  "nbformat_minor": 0,
  "metadata": {
    "colab": {
      "provenance": [],
      "authorship_tag": "ABX9TyOa53LC62W4BxfZXnIlHlha",
      "include_colab_link": true
    },
    "kernelspec": {
      "name": "python3",
      "display_name": "Python 3"
    },
    "language_info": {
      "name": "python"
    }
  },
  "cells": [
    {
      "cell_type": "markdown",
      "metadata": {
        "id": "view-in-github",
        "colab_type": "text"
      },
      "source": [
        "<a href=\"https://colab.research.google.com/github/Hasan9060/python_assignment/blob/main/Assigments%2004/Assignments%201%20to%209%20Compulsory%20Projects/Project_06_Countdown_Timer.ipynb\" target=\"_parent\"><img src=\"https://colab.research.google.com/assets/colab-badge.svg\" alt=\"Open In Colab\"/></a>"
      ]
    },
    {
      "cell_type": "markdown",
      "source": [
        "[🔗 Open this Code in Colab](https://colab.research.google.com/drive/1b3mMy5Tr7MRosNogDVxXMcXeGoaKMLcb#scrollTo=YtAKxy4gnFYt)\n"
      ],
      "metadata": {
        "id": "YtAKxy4gnFYt"
      }
    },
    {
      "cell_type": "code",
      "execution_count": null,
      "metadata": {
        "colab": {
          "base_uri": "https://localhost:8080/"
        },
        "id": "kWbMzxW0s9eh",
        "outputId": "a16b6387-34f8-4e06-8dd8-37eb34081fd4"
      },
      "outputs": [
        {
          "output_type": "stream",
          "name": "stdout",
          "text": [
            "Enter the time in seconds: 9\n",
            "00:00 \n",
            "Time's up!\n"
          ]
        }
      ],
      "source": [
        "# Project 6: Countdown Timer Python Project\n",
        "# It’s a countdown timer that takes input from the user in seconds and then displays it in a minutes:seconds format.\n",
        "\n",
        "import time\n",
        "def countdown_timer(seconds):\n",
        "      while seconds > 0:\n",
        "        mins, secs = divmod(seconds, 60)\n",
        "        time_format = '{:02d}:{:02d}'.format(mins, secs)\n",
        "        print(time_format, end='\\r')\n",
        "        time.sleep(1)\n",
        "        seconds -= 1\n",
        "      print(\"00:00 \\nTime's up!\")\n",
        "\n",
        "#user input for timer\n",
        "total_seconds = int(input(\"Enter the time in seconds: \"))\n",
        "countdown_timer(total_seconds)\n"
      ]
    }
  ]
}