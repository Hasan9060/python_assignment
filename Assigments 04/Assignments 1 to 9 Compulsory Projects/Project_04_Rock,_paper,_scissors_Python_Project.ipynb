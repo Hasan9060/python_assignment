{
  "nbformat": 4,
  "nbformat_minor": 0,
  "metadata": {
    "colab": {
      "provenance": [],
      "authorship_tag": "ABX9TyPBU86tziuJK6plVQDGW1xt",
      "include_colab_link": true
    },
    "kernelspec": {
      "name": "python3",
      "display_name": "Python 3"
    },
    "language_info": {
      "name": "python"
    }
  },
  "cells": [
    {
      "cell_type": "markdown",
      "metadata": {
        "id": "view-in-github",
        "colab_type": "text"
      },
      "source": [
        "<a href=\"https://colab.research.google.com/github/Hasan9060/python_assignment/blob/main/Assigments%2004/Assignments%201%20to%209%20Compulsory%20Projects/Project_04_Rock%2C_paper%2C_scissors_Python_Project.ipynb\" target=\"_parent\"><img src=\"https://colab.research.google.com/assets/colab-badge.svg\" alt=\"Open In Colab\"/></a>"
      ]
    },
    {
      "cell_type": "code",
      "execution_count": null,
      "metadata": {
        "id": "fYICXkAWP4qC",
        "outputId": "54524500-dbcf-4ede-96f2-660ec30b3632",
        "colab": {
          "base_uri": "https://localhost:8080/"
        }
      },
      "outputs": [
        {
          "metadata": {
            "tags": null
          },
          "name": "stdout",
          "output_type": "stream",
          "text": [
            "Welcome to Rock, Paper, Scissors!\n",
            "Let's see if you can beat the computer.\n"
          ]
        }
      ],
      "source": [
        "# Project 04 : Rock, paper, scissors Python Project\n",
        "import random\n",
        "\n",
        "print(\"Welcome to Rock, Paper, Scissors!\")\n",
        "print(\"Let's see if you can beat the computer.\")\n",
        "\n",
        "# Available choices\n",
        "choices = [\"rock\", \"paper\", \"scissors\"]\n",
        "\n",
        "while True:\n",
        "    # Get user input\n",
        "    user_choice = input(\"Choose rock, paper or scissors: \").lower()\n",
        "\n",
        "    # Validate input\n",
        "    if user_choice not in choices:\n",
        "        print(\"Invalid choice! Please choose rock, paper, or scissors.\")\n",
        "        continue\n",
        "\n",
        "    # Get computer's choice\n",
        "    computer_choice = random.choice(choices)\n",
        "\n",
        "    print(f\"\\nYou chose: {user_choice}\")\n",
        "    print(f\"Computer chose: {computer_choice}\\n\")\n",
        "\n",
        "    # Determine winner\n",
        "    if user_choice == computer_choice:\n",
        "        print(\"It's a tie!\")\n",
        "    elif (\n",
        "        (user_choice == \"rock\" and computer_choice == \"scissors\") or\n",
        "        (user_choice == \"paper\" and computer_choice == \"rock\") or\n",
        "        (user_choice == \"scissors\" and computer_choice == \"paper\")\n",
        "    ):\n",
        "        print(\"You win!\")\n",
        "    else:\n",
        "        print(\"Computer wins!\")\n",
        "\n",
        "    # Ask to play again\n",
        "    play_again = input(\"\\nDo you want to play again? (yes/no): \").lower()\n",
        "    if play_again != \"yes\":\n",
        "        print(\"Thanks for playing! Goodbye.\")\n",
        "        break\n"
      ]
    }
  ]
}