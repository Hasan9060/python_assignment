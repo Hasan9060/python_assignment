{
  "nbformat": 4,
  "nbformat_minor": 0,
  "metadata": {
    "colab": {
      "provenance": [],
      "authorship_tag": "ABX9TyMEeTEg2Dr1iZAiKNNd4+bi",
      "include_colab_link": true
    },
    "kernelspec": {
      "name": "python3",
      "display_name": "Python 3"
    },
    "language_info": {
      "name": "python"
    }
  },
  "cells": [
    {
      "cell_type": "markdown",
      "metadata": {
        "id": "view-in-github",
        "colab_type": "text"
      },
      "source": [
        "<a href=\"https://colab.research.google.com/github/Hasan9060/python_assignment/blob/main/Assigments%2004/Assigments%2000%20to%2005%20basics/03_if_statements.ipynb\" target=\"_parent\"><img src=\"https://colab.research.google.com/assets/colab-badge.svg\" alt=\"Open In Colab\"/></a>"
      ]
    },
    {
      "cell_type": "code",
      "execution_count": null,
      "metadata": {
        "id": "tv6Hsa6k_R4R"
      },
      "outputs": [],
      "source": [
        "def main():\n",
        "    for i in range(20):\n",
        "        print(i + 2)\n",
        "\n",
        "if __name__ == \"__main__\":\n",
        "    main()\n"
      ]
    },
    {
      "cell_type": "code",
      "source": [
        "# Voting age constants\n",
        "JAMSHED_AGE = 22\n",
        "ALI_AGE = 21\n",
        "FATIA_AGE = 20\n",
        "\n",
        "def main():\n",
        "    user_age = int(input(\"How old are you? \"))\n",
        "\n",
        "    # voting check\n",
        "    if user_age >= JAMSHED_AGE:\n",
        "        print(f\"You can vote in Jamshed where the voting age is {JAMSHED_AGE}.\")\n",
        "    else:\n",
        "        print(f\"You cannot vote in Jamshed where the voting age is {JAMSHED_AGE}.\")\n",
        "\n",
        "    # voting check\n",
        "    if user_age >= ALI_AGE:\n",
        "        print(f\"You can vote in Ali where the voting age is {ALI_AGE}.\")\n",
        "    else:\n",
        "        print(f\"You cannot vote in Ali where the voting age is {ALI_AGE}.\")\n"
      ],
      "metadata": {
        "id": "TXstC-l0_eWR"
      },
      "execution_count": null,
      "outputs": []
    },
    {
      "cell_type": "code",
      "source": [
        "import random\n",
        "\n",
        "N_NUMBERS = 10\n",
        "MIN_VALUE = 1\n",
        "MAX_VALUE = 100\n",
        "\n",
        "def main():\n",
        "    for _ in range(N_NUMBERS):\n",
        "        print(random.randint(MIN_VALUE, MAX_VALUE), end=\" \")\n",
        "\n",
        "if __name__ == \"__main__\":\n",
        "    main()\n"
      ],
      "metadata": {
        "id": "rz4VnsYV_guY"
      },
      "execution_count": null,
      "outputs": []
    }
  ]
}