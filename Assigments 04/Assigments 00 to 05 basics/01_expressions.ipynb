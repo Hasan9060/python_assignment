{
  "nbformat": 4,
  "nbformat_minor": 0,
  "metadata": {
    "colab": {
      "provenance": [],
      "authorship_tag": "ABX9TyNyye4zeXhwZvMIyyv7ZHbp",
      "include_colab_link": true
    },
    "kernelspec": {
      "name": "python3",
      "display_name": "Python 3"
    },
    "language_info": {
      "name": "python"
    }
  },
  "cells": [
    {
      "cell_type": "markdown",
      "metadata": {
        "id": "view-in-github",
        "colab_type": "text"
      },
      "source": [
        "<a href=\"https://colab.research.google.com/github/Hasan9060/python_assignment/blob/main/Assigments%2004/Assigments%2000%20to%2005%20basics/01_expressions.ipynb\" target=\"_parent\"><img src=\"https://colab.research.google.com/assets/colab-badge.svg\" alt=\"Open In Colab\"/></a>"
      ]
    },
    {
      "cell_type": "markdown",
      "source": [
        "[🔗 Open this Code in Colab](https://colab.research.google.com/drive/1lPrI46IR4RUhsOFSXQAtMMBfMXzv4EwK#scrollTo=Gk3l5d6vSvR4)"
      ],
      "metadata": {
        "id": "Gk3l5d6vSvR4"
      }
    },
    {
      "cell_type": "code",
      "execution_count": 6,
      "metadata": {
        "colab": {
          "base_uri": "https://localhost:8080/"
        },
        "id": "17ihOzVx5lmB",
        "outputId": "4bdbeda0-a12c-4d9d-f6ae-81ab7c8c8557"
      },
      "outputs": [
        {
          "output_type": "stream",
          "name": "stdout",
          "text": [
            "Initial value in main() is: 10\n",
            "Rolling the dice...\n",
            "Dice 1: 4\n",
            "Dice 2: 5\n",
            "Total: 9\n",
            "Rolling the dice...\n",
            "Dice 1: 1\n",
            "Dice 2: 3\n",
            "Total: 4\n",
            "Rolling the dice...\n",
            "Dice 1: 6\n",
            "Dice 2: 3\n",
            "Total: 9\n",
            "Final value in main() is: 10\n"
          ]
        }
      ],
      "source": [
        "# Assignment 01: dice_simulator\n",
        "\n",
        "import random\n",
        "SIDES = 6\n",
        "\n",
        "def roll_dice():\n",
        "    \"\"\"\n",
        "    Simulates rolling two dice and prints their total\n",
        "    \"\"\"\n",
        "    dice1: int = random.randint(1, SIDES)\n",
        "    dice2: int = random.randint(1, SIDES)\n",
        "    total: int = dice1 + dice2\n",
        "    print(\"Rolling the dice...\")\n",
        "    print(f\"Dice 1: {dice1}\")\n",
        "    print(f\"Dice 2: {dice2}\")\n",
        "    print(f\"Total: {total}\")\n",
        "\n",
        "def main():\n",
        "    initial_value: int = 10\n",
        "    print(f\"Initial value in main() is: {initial_value}\")\n",
        "    roll_dice()\n",
        "    roll_dice()\n",
        "    roll_dice()\n",
        "    print(f\"Final value in main() is: {initial_value}\")\n",
        "\n",
        "if __name__ == \"__main__\":\n",
        "    main()\n"
      ]
    },
    {
      "cell_type": "code",
      "source": [
        "# Assignment 02: e=mc2\n",
        "\n",
        "constant: int = 299792458  # Speed of light\n",
        "\n",
        "def main():\n",
        "    mass: float = float(input(\"Enter kilos of mass: \"))\n",
        "    energy:float =mass * (constant) ** 2\n",
        "    print(\"E = mc2...\")\n",
        "    print(\"m = \" + str(mass) + \" kg\")\n",
        "    print(\"C = \" + str(constant) + \" m/s\")\n",
        "    print(str(energy) + \" joules of energy!\")\n",
        "\n",
        "if __name__ == \"__main__\":\n",
        "    main()\n",
        "\n"
      ],
      "metadata": {
        "colab": {
          "base_uri": "https://localhost:8080/"
        },
        "id": "GL6Q3okFFB-J",
        "outputId": "d644d0ea-264a-41ab-bd1c-491435aace58"
      },
      "execution_count": 13,
      "outputs": [
        {
          "output_type": "stream",
          "name": "stdout",
          "text": [
            "Enter kilos of mass: 133\n",
            "E = mc2...\n",
            "m = 133.0 kg\n",
            "C = 299792458 m/s\n",
            "1.1953443877199673e+19 joules of energy!\n"
          ]
        }
      ]
    },
    {
      "cell_type": "code",
      "source": [
        "# Assignment 03: feet_to_inches\n",
        "\n",
        "Inches_in_foot: int = 12\n",
        "\n",
        "def main():\n",
        "  feet: float = float(input(\"Enter number of feet:\"))\n",
        "  inches: float = feet * Inches_in_foot\n",
        "\n",
        "  print(feet, \"feet is equal to\", inches, \"inches.\")\n",
        "\n",
        "if __name__ == \"__main__\":\n",
        "  main()"
      ],
      "metadata": {
        "colab": {
          "base_uri": "https://localhost:8080/"
        },
        "id": "KZWNT9nFLbnf",
        "outputId": "4d4720f9-88c8-4197-b5c4-80b5c62c68f0"
      },
      "execution_count": 14,
      "outputs": [
        {
          "output_type": "stream",
          "name": "stdout",
          "text": [
            "Enter number of feet:4\n",
            "4.0 feet is equal to 48.0 inches.\n"
          ]
        }
      ]
    },
    {
      "cell_type": "code",
      "source": [
        "# Assignment 04: pythagorean_theorem\n",
        "\n",
        "import math\n",
        "\n",
        "def main():\n",
        "  ab: float = float(input(\"Enter the lenght of AB: \"))\n",
        "  ac: float = float(input(\"Enter the lenght of AC: \"))\n",
        "  bc: float = math.sqrt(ab**2 + ac**2)\n",
        "\n",
        "  print(\"The lenght of BC (the Hypothenuse) is:\", bc)\n",
        "\n",
        "if __name__ == \"__main__\":\n",
        "  main()"
      ],
      "metadata": {
        "colab": {
          "base_uri": "https://localhost:8080/"
        },
        "id": "dk0p98PlN_vq",
        "outputId": "d38dc1f1-69f1-448e-bb98-f26ee14ab9df"
      },
      "execution_count": 15,
      "outputs": [
        {
          "output_type": "stream",
          "name": "stdout",
          "text": [
            "Enter the lenght of AB: 2\n",
            "Enter the lenght of AC: 6\n",
            "The lenght of BC (the Hypothenuse) is: 6.324555320336759\n"
          ]
        }
      ]
    },
    {
      "cell_type": "code",
      "source": [
        "# Assignment 05: remainder_division\n",
        "\n",
        "def main():\n",
        "    dividend = int(input(\"Please enter an integer to be divided: \"))\n",
        "    divisor = int(input(\"Please enter an integer to divide by: \"))\n",
        "\n",
        "    quotient = dividend // divisor\n",
        "    remainder = dividend % divisor\n",
        "\n",
        "    print(f\"The result of this division is {quotient} with a remainder of {remainder}\")\n",
        "\n",
        "if __name__ == \"__main__\":\n",
        "    main()\n"
      ],
      "metadata": {
        "colab": {
          "base_uri": "https://localhost:8080/"
        },
        "id": "jSVLB6XeO0SA",
        "outputId": "fdd34b1f-23ac-45e4-c052-46d6a00cbb76"
      },
      "execution_count": 16,
      "outputs": [
        {
          "output_type": "stream",
          "name": "stdout",
          "text": [
            "Please enter an integer to be divided: 8\n",
            "Please enter an integer to divide by: 4\n",
            "The result of this division is 2 with a remainder of 0\n"
          ]
        }
      ]
    },
    {
      "cell_type": "code",
      "source": [
        "# Assignment 06: rolldice\n",
        "\n",
        "import random\n",
        "\n",
        "NUM_SIDES = 8\n",
        "\n",
        "def main():\n",
        "    die1 = random.randint(1, NUM_SIDES)\n",
        "    die2 = random.randint(1, NUM_SIDES)\n",
        "\n",
        "    total = die1 + die2\n",
        "\n",
        "    print(f\"Dice have {NUM_SIDES} sides each.\")\n",
        "    print(f\"First die: {die1}\")\n",
        "    print(f\"Second die: {die2}\")\n",
        "    print(f\"Total of two dice: {total}\")\n",
        "\n",
        "if __name__ == \"__main__\":\n",
        "    main()\n"
      ],
      "metadata": {
        "colab": {
          "base_uri": "https://localhost:8080/"
        },
        "id": "cAPCCkrNQdO3",
        "outputId": "0a67cc26-79ee-4907-81d3-b4b7087bef67"
      },
      "execution_count": 19,
      "outputs": [
        {
          "output_type": "stream",
          "name": "stdout",
          "text": [
            "Dice have 8 sides each.\n",
            "First die: 6\n",
            "Second die: 2\n",
            "Total of two dice: 8\n"
          ]
        }
      ]
    },
    {
      "cell_type": "code",
      "source": [
        "# Assignment 06 part2: seconds_in_year\n",
        "\n",
        "DAYS_PER_YEAR = 365\n",
        "HOURS_PER_DAY = 24\n",
        "MIN_PER_HOUR = 60\n",
        "SEC_PER_MIN = 60\n",
        "\n",
        "def main():\n",
        "    total_seconds = DAYS_PER_YEAR * HOURS_PER_DAY * MIN_PER_HOUR * SEC_PER_MIN\n",
        "    print(f\"There are {total_seconds} seconds in a year!\")\n",
        "\n",
        "if __name__ == \"__main__\":\n",
        "    main()\n"
      ],
      "metadata": {
        "colab": {
          "base_uri": "https://localhost:8080/"
        },
        "id": "ZxUTPzEMQdvD",
        "outputId": "656d26b9-4f84-4ebb-f289-b1fb51285065"
      },
      "execution_count": 21,
      "outputs": [
        {
          "output_type": "stream",
          "name": "stdout",
          "text": [
            "There are 31536000 seconds in a year!\n"
          ]
        }
      ]
    },
    {
      "cell_type": "code",
      "source": [
        "# Assignment 07: tiny_mad_lib\n",
        "\n",
        "SENTENCE_START = \"Panaverse is fun. I learned to program and used Python to make my \"\n",
        "\n",
        "def main():\n",
        "    adjective = input(\"Please type an adjective and press enter: \")\n",
        "    noun = input(\"Please type a noun and press enter: \")\n",
        "    verb = input(\"Please type a verb and press enter: \")\n",
        "\n",
        "    print(SENTENCE_START + adjective + ' ' + noun + \" \" + verb + \"!\")\n",
        "\n",
        "if __name__ == \"__main__\":\n",
        "    main()\n"
      ],
      "metadata": {
        "colab": {
          "base_uri": "https://localhost:8080/"
        },
        "id": "WO-OdjFrQnx-",
        "outputId": "3c583de4-f848-499f-cd2d-fb4134a32d75"
      },
      "execution_count": 24,
      "outputs": [
        {
          "output_type": "stream",
          "name": "stdout",
          "text": [
            "Please type an adjective and press enter: excellent\n",
            "Please type a noun and press enter: projects\n",
            "Please type a verb and press enter: work\n",
            "Panaverse is fun. I learned to program and used Python to make my excellent projects work!\n"
          ]
        }
      ]
    }
  ]
}