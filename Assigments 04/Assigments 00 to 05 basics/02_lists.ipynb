{
  "nbformat": 4,
  "nbformat_minor": 0,
  "metadata": {
    "colab": {
      "provenance": [],
      "authorship_tag": "ABX9TyNCmoFd2RQEWPsk3guWFSbn",
      "include_colab_link": true
    },
    "kernelspec": {
      "name": "python3",
      "display_name": "Python 3"
    },
    "language_info": {
      "name": "python"
    }
  },
  "cells": [
    {
      "cell_type": "markdown",
      "metadata": {
        "id": "view-in-github",
        "colab_type": "text"
      },
      "source": [
        "<a href=\"https://colab.research.google.com/github/Hasan9060/python_assignment/blob/main/Assigments%2004/Assigments%2000%20to%2005%20basics/02_lists.ipynb\" target=\"_parent\"><img src=\"https://colab.research.google.com/assets/colab-badge.svg\" alt=\"Open In Colab\"/></a>"
      ]
    },
    {
      "cell_type": "code",
      "source": [
        "def add_many_numbers(numbers) -> int:\n",
        "    \"\"\"\n",
        "    Takes in a list of numbers and returns the sum of those numbers.\n",
        "    \"\"\"\n",
        "    total_so_far: int = 0\n",
        "    for number in numbers:\n",
        "        total_so_far += number\n",
        "\n",
        "    return total_so_far\n",
        "\n",
        "def main():\n",
        "    numbers: list[int] = [1, 2, 3, 4, 5]\n",
        "    sum_of_numbers = add_many_numbers(numbers)\n",
        "    print(sum_of_numbers)\n",
        "\n",
        "if __name__ == '__main__':\n",
        "    main()\n"
      ],
      "metadata": {
        "colab": {
          "base_uri": "https://localhost:8080/"
        },
        "id": "pTzYJ-APgEu_",
        "outputId": "0149a435-8718-4e3b-95b8-54f19a2b8e0c"
      },
      "execution_count": 4,
      "outputs": [
        {
          "output_type": "stream",
          "name": "stdout",
          "text": [
            "15\n"
          ]
        }
      ]
    },
    {
      "cell_type": "code",
      "source": [
        "def main():\n",
        "    numbers: list[int] = [1, 2, 3, 4]\n",
        "\n",
        "    for i in range(len(numbers)):\n",
        "        numbers[i] = numbers[i] * 2\n",
        "\n",
        "    print(numbers)\n",
        "\n",
        "if __name__ == '__main__':\n",
        "    main()\n"
      ],
      "metadata": {
        "colab": {
          "base_uri": "https://localhost:8080/"
        },
        "id": "Hs71uAno54aG",
        "outputId": "5e42fbf7-fb10-4ced-feeb-da513adafa58"
      },
      "execution_count": 2,
      "outputs": [
        {
          "output_type": "stream",
          "name": "stdout",
          "text": [
            "[2, 4, 6, 8]\n"
          ]
        }
      ]
    },
    {
      "cell_type": "code",
      "source": [
        "def add_three_copies(my_list, data):\n",
        "    \"\"\"Yeh function my_list me 3 copies of data add karega.\"\"\"\n",
        "    for _ in range(3):\n",
        "        my_list.append(data)\n",
        "\n",
        "def main():\n",
        "    message = input(\"Enter a message to copy: \")\n",
        "    my_list = []\n",
        "    print(\"List before:\", my_list)\n",
        "    add_three_copies(my_list, message)\n",
        "    print(\"List after:\", my_list)\n",
        "\n",
        "if __name__ == '__main__':\n",
        "    main()\n"
      ],
      "metadata": {
        "colab": {
          "base_uri": "https://localhost:8080/"
        },
        "id": "KI-v5yEh57Vm",
        "outputId": "4c5ced8e-c1e4-4092-d64e-b6b11168c4cb"
      },
      "execution_count": 3,
      "outputs": [
        {
          "output_type": "stream",
          "name": "stdout",
          "text": [
            "Enter a message to copy: Hello Hasan\n",
            "List before: []\n",
            "List after: ['Hello Hasan', 'Hello Hasan', 'Hello Hasan']\n"
          ]
        }
      ]
    },
    {
      "cell_type": "code",
      "source": [
        "def get_first_element(lst):\n",
        "    print(\"First element:\", lst[0])\n",
        "\n",
        "def get_lst():\n",
        "    lst = []\n",
        "    elem = input(\"Please enter an element of the list or press enter to stop: \")\n",
        "    while elem != \"\":\n",
        "        lst.append(elem)\n",
        "        elem = input(\"Please enter an element of the list or press enter to stop: \")\n",
        "    return lst\n",
        "\n",
        "def main():\n",
        "    lst = get_lst()\n",
        "    get_first_element(lst)\n",
        "\n",
        "if __name__ == '__main__':\n",
        "    main()\n"
      ],
      "metadata": {
        "colab": {
          "base_uri": "https://localhost:8080/"
        },
        "id": "trtQiXGy59gw",
        "outputId": "894cc529-438a-4ed7-9455-fa99b9583648"
      },
      "execution_count": 5,
      "outputs": [
        {
          "output_type": "stream",
          "name": "stdout",
          "text": [
            "Please enter an element of the list or press enter to stop: 12\n",
            "Please enter an element of the list or press enter to stop: 0\n",
            "Please enter an element of the list or press enter to stop: \n",
            "First element: 12\n"
          ]
        }
      ]
    },
    {
      "cell_type": "code",
      "source": [
        "def get_last_element(lst):\n",
        "    print(\"Last element:\", lst[-1])\n",
        "\n",
        "def get_lst():\n",
        "    lst = []\n",
        "    elem = input(\"List ka ek element likho (Stop karne ke liye enter dabao): \")\n",
        "    while elem != \"\":\n",
        "        lst.append(elem)\n",
        "        elem = input(\"List ka ek element likho (Stop karne ke liye enter dabao): \")\n",
        "    return lst\n",
        "\n",
        "def main():\n",
        "    lst = get_lst()\n",
        "    get_last_element(lst)\n",
        "\n",
        "if __name__ == '__main__':\n",
        "    main()\n"
      ],
      "metadata": {
        "colab": {
          "base_uri": "https://localhost:8080/"
        },
        "id": "hL-_Pt0c6AGQ",
        "outputId": "18151272-53b4-4d1b-955f-19fd972671a7"
      },
      "execution_count": 12,
      "outputs": [
        {
          "output_type": "stream",
          "name": "stdout",
          "text": [
            "List ka ek element likho (Stop karne ke liye enter dabao): 1\n",
            "List ka ek element likho (Stop karne ke liye enter dabao): 12\n",
            "List ka ek element likho (Stop karne ke liye enter dabao): 14\n",
            "List ka ek element likho (Stop karne ke liye enter dabao): 16\n",
            "List ka ek element likho (Stop karne ke liye enter dabao): 19\n",
            "List ka ek element likho (Stop karne ke liye enter dabao): \n",
            "Last element: 19\n"
          ]
        }
      ]
    },
    {
      "cell_type": "code",
      "source": [
        "def main():\n",
        "    lst = []\n",
        "\n",
        "    val = input(\"Enter a value: \")\n",
        "    while val:\n",
        "        lst.append(val)\n",
        "        val = input(\"Enter a value: \")\n",
        "\n",
        "    print(\"Here's the list:\", lst)\n",
        "\n",
        "if __name__ == '__main__':\n",
        "    main()\n"
      ],
      "metadata": {
        "colab": {
          "base_uri": "https://localhost:8080/"
        },
        "id": "vReSaAhc6Ctb",
        "outputId": "732a547f-2b37-4b73-fa25-8b847b0a2e30"
      },
      "execution_count": 9,
      "outputs": [
        {
          "output_type": "stream",
          "name": "stdout",
          "text": [
            "Enter a value: 12\n",
            "Enter a value: 12\n",
            "Enter a value: 13\n",
            "Enter a value: 2\n",
            "Enter a value: 3\n",
            "Enter a value: 1\n",
            "Enter a value: 4\n",
            "Enter a value: 8\n",
            "Enter a value: 4\n",
            "Enter a value: \n",
            "Here's the list: ['12', '12', '13', '2', '3', '1', '4', '8', '4']\n"
          ]
        }
      ]
    },
    {
      "cell_type": "code",
      "source": [
        "MAX_LENGTH: int = 3\n",
        "\n",
        "def shorten(lst):\n",
        "    while len(lst) > MAX_LENGTH:\n",
        "        last_elem = lst.pop()\n",
        "        print(last_elem)\n",
        "\n",
        "def get_lst():\n",
        "    lst = []\n",
        "    elem = input(\"Please enter an element of the list or press enter to stop: \")\n",
        "    while elem != \"\":\n",
        "        lst.append(elem)\n",
        "        elem = input(\"Please enter an element of the list or press enter to stop: \")\n",
        "    return lst\n",
        "\n",
        "def main():\n",
        "    lst = get_lst()\n",
        "    shorten(lst)\n",
        "\n",
        "if __name__ == '__main__':\n",
        "    main()\n"
      ],
      "metadata": {
        "colab": {
          "base_uri": "https://localhost:8080/"
        },
        "id": "GidEIcbO6EPQ",
        "outputId": "588c35ba-4add-4b06-9104-d818cfebd77f"
      },
      "execution_count": 11,
      "outputs": [
        {
          "output_type": "stream",
          "name": "stdout",
          "text": [
            "Please enter an element of the list or press enter to stop: 1\n",
            "Please enter an element of the list or press enter to stop: 2\n",
            "Please enter an element of the list or press enter to stop: 8\n",
            "Please enter an element of the list or press enter to stop: 9\n",
            "Please enter an element of the list or press enter to stop: 2\n",
            "Please enter an element of the list or press enter to stop: 1\n",
            "Please enter an element of the list or press enter to stop: 4\n",
            "Please enter an element of the list or press enter to stop: 5\n",
            "Please enter an element of the list or press enter to stop: 0\n",
            "Please enter an element of the list or press enter to stop: \n",
            "0\n",
            "5\n",
            "4\n",
            "1\n",
            "2\n",
            "9\n"
          ]
        }
      ]
    }
  ]
}