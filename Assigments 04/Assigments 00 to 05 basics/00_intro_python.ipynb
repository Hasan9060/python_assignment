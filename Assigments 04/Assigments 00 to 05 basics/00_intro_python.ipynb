{
  "nbformat": 4,
  "nbformat_minor": 0,
  "metadata": {
    "colab": {
      "provenance": [],
      "authorship_tag": "ABX9TyMArlhY613YLD2cpgMdl8K9",
      "include_colab_link": true
    },
    "kernelspec": {
      "name": "python3",
      "display_name": "Python 3"
    },
    "language_info": {
      "name": "python"
    }
  },
  "cells": [
    {
      "cell_type": "markdown",
      "metadata": {
        "id": "view-in-github",
        "colab_type": "text"
      },
      "source": [
        "<a href=\"https://colab.research.google.com/github/Hasan9060/python_assignment/blob/main/Assigments%2004/Assigments%2000%20to%2005%20basics/00_intro_python.ipynb\" target=\"_parent\"><img src=\"https://colab.research.google.com/assets/colab-badge.svg\" alt=\"Open In Colab\"/></a>"
      ]
    },
    {
      "cell_type": "markdown",
      "source": [
        "[🔗 Open this Code in Colab](https://colab.research.google.com/drive/1S-eeY3o0v18wRiE0JqfFrweuwea-mAEP#scrollTo=O9akZmad3dhz)"
      ],
      "metadata": {
        "id": "O9akZmad3dhz"
      }
    },
    {
      "cell_type": "code",
      "execution_count": 9,
      "metadata": {
        "colab": {
          "base_uri": "https://localhost:8080/"
        },
        "collapsed": true,
        "id": "e1O-HMnYrJRk",
        "outputId": "bdd3e8ac-221f-41f2-95dd-7ddd9e25975a"
      },
      "outputs": [
        {
          "output_type": "stream",
          "name": "stdout",
          "text": [
            "This program will calculate the sum of two numbers.\n",
            "Enter the first number: 1\n",
            "Enter the second number: 3\n",
            "The total number is : 4\n"
          ]
        }
      ],
      "source": [
        "# Assignment 01 : add_two_numbers\n",
        "\n",
        "def add_numbers():\n",
        "    print (\"This program will calculate the sum of two numbers.\")\n",
        "\n",
        "    num1 = int(input(\"Enter the first number: \"))\n",
        "    num2 = int(input(\"Enter the second number: \"))\n",
        "\n",
        "    Total = num1 + num2\n",
        "    print(\"The total number is :\" , Total)\n",
        "\n",
        "if __name__ == \"__main__\":\n",
        "    add_numbers()"
      ]
    },
    {
      "cell_type": "code",
      "source": [
        "# Assignment 02 : agreement_bot\n",
        "\n",
        "def main():\n",
        "  print(\"Hello 😊\")\n",
        "  animal = str(input(\"What is your favorite animal? \"))\n",
        "\n",
        "  print(\"My favorite animal is also \" + animal + \"!\" )\n",
        "\n",
        "if __name__ == \"__main__\":\n",
        "  main()"
      ],
      "metadata": {
        "colab": {
          "base_uri": "https://localhost:8080/"
        },
        "id": "MgSdNfcCtnH3",
        "outputId": "374fa7fd-470d-4914-f1b9-cd173f0a175a"
      },
      "execution_count": 11,
      "outputs": [
        {
          "output_type": "stream",
          "name": "stdout",
          "text": [
            "Hello 😊\n",
            "What is your favorite animal? Lion\n",
            "My favorite animal is also Lion!\n"
          ]
        }
      ]
    },
    {
      "cell_type": "code",
      "source": [
        "# Assignment 03 : fahrenheit_to_celsius\n",
        "\n",
        "def main():\n",
        "  fahrenheit = float(input(\"Enter the temperature in Fahrenheit: \"))\n",
        "  celsius = (fahrenheit - 32) * 5/9\n",
        "  print(\"The temperature in Celsius is: \", celsius)\n",
        "\n",
        "if __name__ == \"__main__\":\n",
        "  main()"
      ],
      "metadata": {
        "colab": {
          "base_uri": "https://localhost:8080/"
        },
        "id": "OgsU-AjivCmU",
        "outputId": "0851780e-40c2-4e3d-f3b0-34c9e3f79364"
      },
      "execution_count": 12,
      "outputs": [
        {
          "output_type": "stream",
          "name": "stdout",
          "text": [
            "Enter the temperature in Fahrenheit: 14\n",
            "The temperature in Celsius is:  -10.0\n"
          ]
        }
      ]
    },
    {
      "cell_type": "code",
      "source": [
        "# Assignment 03 : how_old_are_they\n",
        "\n",
        "def main():\n",
        "    ali : int = 19\n",
        "    hammad : int = 2 + ali\n",
        "    usman : int =  3 + hammad\n",
        "    umer  : int= usman + ali\n",
        "    hasan : int = umer\n",
        "\n",
        "   # Print out all of the ages!\n",
        "    print(\"Ali is \" + str(ali))\n",
        "    print(\"Hammad is \" + str(hammad))\n",
        "    print(\"Usman is \" + str(usman))\n",
        "    print(\"Umer is \" + str(umer))\n",
        "    print(\"Hasan is \" + str(hasan))\n",
        "\n",
        "if __name__ == '__main__':\n",
        "    main()"
      ],
      "metadata": {
        "colab": {
          "base_uri": "https://localhost:8080/"
        },
        "id": "8Fwt6RIywH5C",
        "outputId": "736d6c2c-05d6-4fdd-b1fc-876ab3c4f820"
      },
      "execution_count": 16,
      "outputs": [
        {
          "output_type": "stream",
          "name": "stdout",
          "text": [
            "Ali is 19\n",
            "Hammad is 21\n",
            "Usman is 24\n",
            "Umer is 43\n",
            "Hasan is 43\n"
          ]
        }
      ]
    },
    {
      "cell_type": "code",
      "source": [
        "# Assignment 03 : triangle_perimeter\n",
        "\n",
        "def main():\n",
        "  print(\"This program will calculate the perimeter of a triangle.\")\n",
        "\n",
        "  side1 = float(input(\"Enter the length of side 1: \"))\n",
        "  side2 = float(input(\"Enter the length of side 2: \"))\n",
        "  side3 = float(input(\"Enter the length of side 3: \"))\n",
        "  perimeter = side1 + side2 + side3\n",
        "  print(\"The perimeter of the triangle is: \", perimeter)\n",
        "\n",
        "if __name__ == \"__main__\":\n",
        "  main()"
      ],
      "metadata": {
        "colab": {
          "base_uri": "https://localhost:8080/"
        },
        "id": "XhzK6GVD1CG0",
        "outputId": "bfc66387-5ef2-4ca5-b69b-b669fa2b7956"
      },
      "execution_count": 19,
      "outputs": [
        {
          "output_type": "stream",
          "name": "stdout",
          "text": [
            "This program will calculate the perimeter of a triangle.\n",
            "Enter the length of side 1: 1\n",
            "Enter the length of side 2: 2\n",
            "Enter the length of side 3: 3\n",
            "The perimeter of the triangle is:  6.0\n"
          ]
        }
      ]
    },
    {
      "cell_type": "code",
      "source": [
        "# Assignment 04 : square_number\n",
        "\n",
        "def main():\n",
        "  print(\"this program help you to find square on numbers\")\n",
        "\n",
        "  number = (input(\"Enter a number:\"))\n",
        "  square = int(number) ** 2\n",
        "\n",
        "  print(f\"The Square of {number} is {square}\")\n",
        "\n",
        "if __name__ == \"__main__\":\n",
        "  main()"
      ],
      "metadata": {
        "colab": {
          "base_uri": "https://localhost:8080/"
        },
        "id": "7xJLBkk32Bx9",
        "outputId": "197d2f97-c861-4d11-af08-a46b74ecbcca"
      },
      "execution_count": 20,
      "outputs": [
        {
          "output_type": "stream",
          "name": "stdout",
          "text": [
            "this program help you to find square on numbers\n",
            "Enter a number:4\n",
            "The Square of 4 is 16\n"
          ]
        }
      ]
    }
  ]
}